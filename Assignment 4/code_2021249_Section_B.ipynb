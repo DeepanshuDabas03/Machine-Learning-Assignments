{
 "cells": [
  {
   "cell_type": "markdown",
   "metadata": {},
   "source": [
    "# Import Necessary Libraries"
   ]
  },
  {
   "cell_type": "code",
   "execution_count": 48,
   "metadata": {},
   "outputs": [],
   "source": [
    "import pandas as pd\n",
    "import numpy as np\n",
    "import matplotlib.pyplot as plt\n",
    "import mnist"
   ]
  },
  {
   "cell_type": "markdown",
   "metadata": {},
   "source": [
    "# Build A convoluation function"
   ]
  },
  {
   "cell_type": "code",
   "execution_count": 49,
   "metadata": {},
   "outputs": [],
   "source": [
    "class Convolution:\n",
    "    def __init__(self):\n",
    "        self.last_kernel = None\n",
    "        self.last_image = None\n",
    "        self.filter_size = None\n",
    "        self.last_padded_image = None\n",
    "        self.movements = None\n",
    "\n",
    "    def apply_padding(self, padding_type, image, filter_size):\n",
    "        \"\"\"Applies padding to the image based on the padding type.\"\"\"\n",
    "        if padding_type in ['zero', 'same']:\n",
    "            image_size = len(image[0])\n",
    "            padding_size = image_size - (image_size - filter_size + 1)\n",
    "            padded_image = np.pad(image, [(padding_size,), (padding_size,)], mode='constant')\n",
    "            return padded_image, image_size + padding_size\n",
    "        elif padding_type == 'valid':\n",
    "            return image, len(image[0])\n",
    "\n",
    "    def convolve(self, image, kernel, filter_size):\n",
    "        \"\"\"Performs convolution on the image using the given kernel and filter size.\"\"\"\n",
    "        self.last_kernel = kernel\n",
    "        self.last_image = image\n",
    "        self.filter_size = filter_size\n",
    "        padded_image, image_size = self.apply_padding('zero', image, filter_size)\n",
    "        self.last_padded_image = padded_image\n",
    "        self.movements = image_size - filter_size + 1\n",
    "        convolved_image = np.zeros((self.movements, self.movements))\n",
    "        for row in range(self.movements):\n",
    "            for col in range(self.movements):\n",
    "                segment = padded_image[row:row+filter_size, col:col+filter_size] * kernel\n",
    "                convolved_image[row, col] = np.sum(segment)\n",
    "        return convolved_image\n",
    "\n",
    "    def backprop(self, gradients, learning_rate):\n",
    "        \"\"\"Performs backpropagation based on the gradients and learning rate.\"\"\"\n",
    "        padded_gradients, _ = self.apply_padding('zero', gradients, self.filter_size)\n",
    "        dl_dkernel = 0\n",
    "        for row in range(self.movements):\n",
    "            for col in range(self.movements):\n",
    "                dl_dkernel += padded_gradients[row:row+self.filter_size, col:col+self.filter_size] * self.last_padded_image[row:row+self.filter_size, col:col+self.filter_size]\n",
    "        updated_kernel = self.last_kernel - learning_rate * dl_dkernel\n",
    "        return updated_kernel\n"
   ]
  },
  {
   "cell_type": "markdown",
   "metadata": {},
   "source": [
    "# Build A Pooling Layer For CNN supports two type of Pooling: Average and Max"
   ]
  },
  {
   "cell_type": "code",
   "execution_count": 50,
   "metadata": {},
   "outputs": [],
   "source": [
    "class Pooling:\n",
    "    def __init__(self):\n",
    "        # Initialize variables\n",
    "        self.max_locations = []  # Stores the locations of maximum values for max pooling\n",
    "        self.mean_values = []  # Stores the mean values for average pooling\n",
    "        self.last_convolved_image = None  # Stores the last convolved image\n",
    "        self.pool_size = None  # Stores the size of the pooling window\n",
    "        self.last_padded_image = None  # Stores the last padded image if padding is needed\n",
    "        self.newsize = None  # Stores the new size of the image after padding if needed\n",
    "\n",
    "    def pooling(self, convolved_image, pool_size):\n",
    "        # Max pooling operation\n",
    "        self.initialize_variables(convolved_image, pool_size)\n",
    "        return self.apply_pooling('max')\n",
    "\n",
    "    def avg_pooling(self, convolved_image, pool_size):\n",
    "        # Average pooling operation\n",
    "        self.initialize_variables(convolved_image, pool_size)\n",
    "        return self.apply_pooling('average')\n",
    "\n",
    "    def initialize_variables(self, convolved_image, pool_size):\n",
    "        # Initialize variables for pooling operations\n",
    "        self.max_locations = []\n",
    "        self.mean_values = []\n",
    "        self.pool_size = pool_size\n",
    "        self.last_convolved_image = convolved_image\n",
    "\n",
    "        # Pad the convolved image if needed\n",
    "        if len(convolved_image[0]) % 2 != 0:\n",
    "            self.last_padded_image = np.pad(convolved_image, [(0, 1), (0, 1)], mode='constant', constant_values=(-1e30))\n",
    "        else:\n",
    "            self.last_padded_image = convolved_image\n",
    "\n",
    "        self.newsize = len(self.last_padded_image[0])\n",
    "\n",
    "    def apply_pooling(self, pool_type):\n",
    "        # Apply the pooling operation (max or average)\n",
    "        pooled_image_dim = int(self.newsize / self.pool_size)\n",
    "        pooled_image = np.zeros((pooled_image_dim, pooled_image_dim))\n",
    "\n",
    "        pool_filter = np.ones((self.pool_size, self.pool_size))\n",
    "\n",
    "        for rows in range(0, self.newsize, self.pool_size):\n",
    "            for cols in range(0, self.newsize, self.pool_size):\n",
    "                segment = self.last_padded_image[rows:rows + self.pool_size, cols:cols + self.pool_size] * pool_filter\n",
    "\n",
    "                if pool_type == 'max':\n",
    "                    max_val = np.max(segment)\n",
    "                    location = np.where(self.last_convolved_image == np.amax(segment))\n",
    "                    location = list(zip(location[0], location[1]))[0]\n",
    "                    self.max_locations.append(location)\n",
    "                    pooled_image[int(rows / self.pool_size), int(cols / self.pool_size)] = max_val\n",
    "                elif pool_type == 'average':\n",
    "                    mean_val = np.mean(segment)\n",
    "                    self.mean_values.append(mean_val)\n",
    "                    pooled_image[int(rows / self.pool_size), int(cols / self.pool_size)] = mean_val\n",
    "\n",
    "        return pooled_image\n",
    "\n",
    "    def create_mask(self, gradients):\n",
    "        # Create a mask for max pooling backpropagation\n",
    "        backprop_convolved_image = self.last_convolved_image.copy()\n",
    "        flattened_gradients = gradients.flatten()\n",
    "\n",
    "        for i, location in enumerate(self.max_locations):\n",
    "            backprop_convolved_image[location[0], location[1]] = flattened_gradients[i]\n",
    "\n",
    "        return backprop_convolved_image\n",
    "\n",
    "    def distribute(self, gradients):\n",
    "        # Distribute gradients for average pooling backpropagation\n",
    "        backprop_convolved_image = self.last_padded_image.copy()\n",
    "\n",
    "        for rows in range(0, self.newsize, self.pool_size):\n",
    "            for cols in range(0, self.newsize, self.pool_size):\n",
    "                backprop_convolved_image[rows:rows + self.pool_size, cols:cols + self.pool_size] =+ gradients[int(rows / self.pool_size), int(cols / self.pool_size)]\n",
    "\n",
    "        return backprop_convolved_image\n",
    "\n",
    "    def backprop(self, pool_type, gradients):\n",
    "        # Backpropagation for pooling layers\n",
    "        if pool_type == 'max':\n",
    "            return self.create_mask(gradients)\n",
    "        elif pool_type == 'average':\n",
    "            return self.distribute(gradients)\n"
   ]
  },
  {
   "cell_type": "markdown",
   "metadata": {},
   "source": [
    "# Build A Activation Layer with 0.001 learning rate"
   ]
  },
  {
   "cell_type": "code",
   "execution_count": 51,
   "metadata": {},
   "outputs": [],
   "source": [
    "class ActivatedLayer():\n",
    "    def __init__(self, input_len, classes):\n",
    "        self.weights = np.random.randn(input_len, classes) / input_len+1\n",
    "        self.biases = np.zeros(classes)\n",
    "\n",
    "    def softmax_layer(self, input_image):\n",
    "        # Calculate the output of the activated layer by multiplying the weights with the input image and adding the biases , defining softmax function for output layer which is used in neural networks in final layer\n",
    "        output = np.dot(self.weights.T, input_image) + self.biases.T \n",
    "        exponents = np.exp(output - np.max(output, axis=0, keepdims=True))\n",
    "        activated_output = exponents / np.sum(exponents) + self.biases\n",
    "        self.prev_exponents = exponents\n",
    "        self.prev_activated_output = activated_output\n",
    "        self.prev_output = output\n",
    "        self.prev_input_image = input_image\n",
    "        return activated_output\n",
    "\n",
    "    def backprop(self, dL_dactivation_label):\n",
    "        for i, v in enumerate(dL_dactivation_label):\n",
    "            if v != 0: \n",
    "                dactivation_dnonactivated = -np.exp(self.prev_exponents[i]) * np.exp(self.prev_exponents) / np.square(np.sum(self.prev_exponents))\n",
    "                # from previous layer, we have the derivative of the non activated output with respect to the input\n",
    "                dactivation_dnonactivated[i] = np.exp(self.prev_exponents[i]) * (np.sum(self.prev_exponents) - np.exp(self.prev_exponents[i])) / np.square(np.sum\n",
    "                (self.prev_exponents))\n",
    "                # from previous layer, we have the derivative of the non activated output with respect to the weights\n",
    "                # Initialize the derivative of the non activated output with respect to the weights\n",
    "                dnonactivation_dw = self.prev_input_image\n",
    "                # Initialize the derivative of the non activated output with respect to the biases\n",
    "                dnonactivation_db = 1\n",
    "                # Non activated input is the output of the previous layer\n",
    "                dnonactivation_dinput = self.weights \n",
    "                # @ is used for matrix multiplication \n",
    "                dL_dW = dnonactivation_dw[np.newaxis].T @ ((v * dactivation_dnonactivated)[np.newaxis])  \n",
    "                dL_dB = (v * dactivation_dnonactivated) * dnonactivation_db\n",
    "                dL_dinput = dnonactivation_dinput @ (v * dactivation_dnonactivated)  \n",
    "                # Update weights and biases\n",
    "                self.weights -= 0.001 * dL_dW \n",
    "                self.biases -= 0.001 * dL_dB  \n",
    "                return dL_dinput\n"
   ]
  },
  {
   "cell_type": "markdown",
   "metadata": {},
   "source": [
    "# Create dataset load function"
   ]
  },
  {
   "cell_type": "code",
   "execution_count": 52,
   "metadata": {},
   "outputs": [],
   "source": [
    "def load_data():\n",
    "    train_images = mnist.train_images()\n",
    "    train_labels = mnist.train_labels()\n",
    "\n",
    "    test_images = mnist.test_images()\n",
    "    test_labels = mnist.test_labels()\n",
    "    return train_images, train_labels, test_images, test_labels"
   ]
  },
  {
   "cell_type": "markdown",
   "metadata": {},
   "source": [
    "# Plot Losses"
   ]
  },
  {
   "cell_type": "code",
   "execution_count": 53,
   "metadata": {},
   "outputs": [],
   "source": [
    "\n",
    "def plot_log_losses(log_losses):\n",
    "    plt.plot(log_losses)\n",
    "    plt.title('Log Losses')\n",
    "    plt.xlabel('Epochs')\n",
    "    plt.ylabel('Log Loss')\n",
    "    plt.show()"
   ]
  },
  {
   "cell_type": "markdown",
   "metadata": {},
   "source": [
    "# Plot Accuracy"
   ]
  },
  {
   "cell_type": "code",
   "execution_count": 54,
   "metadata": {},
   "outputs": [],
   "source": [
    "\n",
    "def plot_accuracies(accuracies):\n",
    "    plt.plot(accuracies)\n",
    "    plt.title('Accuracies')\n",
    "    plt.xlabel('Epochs')\n",
    "    plt.ylabel('Accuracy')\n",
    "    plt.show()"
   ]
  },
  {
   "cell_type": "markdown",
   "metadata": {},
   "source": [
    "# Create Windows for CNN Model"
   ]
  },
  {
   "cell_type": "code",
   "execution_count": 55,
   "metadata": {},
   "outputs": [],
   "source": [
    "\n",
    "def window(filter_size):\n",
    "    kernel = np.random.randn(filter_size,filter_size)/5\n",
    "    return kernel\n"
   ]
  },
  {
   "cell_type": "markdown",
   "metadata": {},
   "source": [
    "# Create Kernel Creation Function"
   ]
  },
  {
   "cell_type": "code",
   "execution_count": 56,
   "metadata": {},
   "outputs": [],
   "source": [
    "\n",
    "def create_kernels(num_kernels):\n",
    "    kernels = []\n",
    "    for k in range(num_kernels):\n",
    "        kernel = window(3)\n",
    "        kernels.append(kernel)\n",
    "    return kernels"
   ]
  },
  {
   "cell_type": "markdown",
   "metadata": {},
   "source": [
    "# Create Training Function"
   ]
  },
  {
   "cell_type": "code",
   "execution_count": 57,
   "metadata": {},
   "outputs": [],
   "source": [
    "def train_model(kernels, test_images, test_labels, num_epochs):\n",
    "    accuracies = []\n",
    "    log_losses = []\n",
    "    for epochs in range(num_epochs):\n",
    "        correct = 0\n",
    "        incorrect = 0\n",
    "        log_loss = 0\n",
    "        for i, v in zip(test_images[:50], test_labels[:50]):\n",
    "            i = (i / 255) - 0.5\n",
    "            final_volume = []\n",
    "            for k in range(len(kernels)):\n",
    "                kernel = kernels[k]\n",
    "                convolution = Convolution()\n",
    "                convolved_image = convolution.convolve(i, kernel, 3)\n",
    "                pool_layer = Pooling()\n",
    "                pooled_image = pool_layer.avg_pooling(convolved_image, 2)\n",
    "                final_volume.append(pooled_image)\n",
    "            final_volume = np.array(final_volume)\n",
    "            flattened_volume = final_volume.flatten()\n",
    "            activation_layer = ActivatedLayer(len(flattened_volume), 10)\n",
    "            output = activation_layer.softmax_layer(flattened_volume)\n",
    "            log_loss = -np.log(output[v] + 1e-7)\n",
    "            if np.argmax(output) == v:\n",
    "                correct += 1\n",
    "            else:\n",
    "                incorrect += 1\n",
    "            dL_dactivation_label = np.zeros(10)\n",
    "            dL_dactivation_label[v] = -1 / (output[v] + 1e-7)\n",
    "            softmax_input_derivative = activation_layer.backprop(dL_dactivation_label)\n",
    "            pooling_layer_back_input = softmax_input_derivative.reshape(final_volume.shape)\n",
    "            backprop_convolve_volume = []\n",
    "            for i in pooling_layer_back_input:\n",
    "                backprop = pool_layer.distribute(i)\n",
    "                backprop_convolve_volume.append(backprop)\n",
    "            backprop_convolve_volume = np.array(backprop_convolve_volume)\n",
    "            for i in backprop_convolve_volume:\n",
    "                new_kernel = convolution.backprop(i, -0.001)\n",
    "                kernels[k] = new_kernel\n",
    "        accuracies.append(correct / (incorrect + correct))\n",
    "        log_losses.append(log_loss)\n",
    "    return accuracies, log_losses"
   ]
  },
  {
   "cell_type": "markdown",
   "metadata": {},
   "source": [
    "# Load data"
   ]
  },
  {
   "cell_type": "code",
   "execution_count": 58,
   "metadata": {},
   "outputs": [],
   "source": [
    "\n",
    "train_images, train_labels, test_images, test_labels = load_data()\n"
   ]
  },
  {
   "cell_type": "markdown",
   "metadata": {},
   "source": [
    "# Create kernels"
   ]
  },
  {
   "cell_type": "code",
   "execution_count": 59,
   "metadata": {},
   "outputs": [],
   "source": [
    "\n",
    "kernels = create_kernels(5)"
   ]
  },
  {
   "cell_type": "markdown",
   "metadata": {},
   "source": [
    "# Train model"
   ]
  },
  {
   "cell_type": "code",
   "execution_count": 60,
   "metadata": {},
   "outputs": [],
   "source": [
    "\n",
    "accuracies, log_losses = train_model(kernels, test_images, test_labels, 15)\n"
   ]
  },
  {
   "cell_type": "markdown",
   "metadata": {},
   "source": [
    "# Plot Graphs\n"
   ]
  },
  {
   "cell_type": "code",
   "execution_count": 61,
   "metadata": {},
   "outputs": [
    {
     "data": {
      "image/png": "[encoded data removed]",
      "text/plain": [
       "<Figure size 640x480 with 1 Axes>"
      ]
     },
     "metadata": {},
     "output_type": "display_data"
    },
    {
     "data": {
      "image/png": "[encoded data removed]",
      "text/plain": [
       "<Figure size 640x480 with 1 Axes>"
      ]
     },
     "metadata": {},
     "output_type": "display_data"
    }
   ],
   "source": [
    "plot_accuracies(accuracies)\n",
    "plot_log_losses(log_losses)"
   ]
  }
 ],
 "metadata": {
  "kernelspec": {
   "display_name": "Python 3",
   "language": "python",
   "name": "python3"
  },
  "language_info": {
   "codemirror_mode": {
    "name": "ipython",
    "version": 3
   },
   "file_extension": ".py",
   "mimetype": "text/x-python",
   "name": "python",
   "nbconvert_exporter": "python",
   "pygments_lexer": "ipython3",
   "version": "3.10.12"
  }
 },
 "nbformat": 4,
 "nbformat_minor": 2
}
